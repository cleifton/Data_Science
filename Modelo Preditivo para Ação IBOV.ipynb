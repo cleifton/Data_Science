{
  "nbformat": 4,
  "nbformat_minor": 0,
  "metadata": {
    "colab": {
      "provenance": [],
      "authorship_tag": "ABX9TyPebMQLQqWx3W42PSiE/FUY",
      "include_colab_link": true
    },
    "kernelspec": {
      "name": "python3",
      "display_name": "Python 3"
    },
    "language_info": {
      "name": "python"
    }
  },
  "cells": [
    {
      "cell_type": "markdown",
      "metadata": {
        "id": "view-in-github",
        "colab_type": "text"
      },
      "source": [
        "<a href=\"https://colab.research.google.com/github/cleifton/Data_Science/blob/master/Modelo%20Preditivo%20para%20A%C3%A7%C3%A3o%20IBOV.ipynb\" target=\"_parent\"><img src=\"https://colab.research.google.com/assets/colab-badge.svg\" alt=\"Open In Colab\"/></a>"
      ]
    },
    {
      "cell_type": "code",
      "execution_count": 198,
      "metadata": {
        "id": "XlT5jT9DeLcU"
      },
      "outputs": [],
      "source": [
        "import pandas as pd\n",
        "import yfinance as yf\n",
        "import datetime\n",
        "from sklearn.ensemble import RandomForestRegressor"
      ]
    },
    {
      "cell_type": "code",
      "source": [
        "today = datetime.datetime.today()\n",
        "start_date = today + datetime.timedelta(days=-30)\n",
        "end_date = today + datetime.timedelta(days=30)"
      ],
      "metadata": {
        "id": "3_XVrK6HojsV"
      },
      "execution_count": 199,
      "outputs": []
    },
    {
      "cell_type": "code",
      "source": [
        "df = yf.download('^GSPC')"
      ],
      "metadata": {
        "colab": {
          "base_uri": "https://localhost:8080/"
        },
        "id": "WjKTndRFeNL9",
        "outputId": "9636bf13-99cf-47b4-c9e8-0ce984cf5075"
      },
      "execution_count": 200,
      "outputs": [
        {
          "output_type": "stream",
          "name": "stdout",
          "text": [
            "\r[*********************100%***********************]  1 of 1 completed\n"
          ]
        }
      ]
    },
    {
      "cell_type": "code",
      "source": [
        "X = df[['Open', 'High', 'Low', 'Volume']]\n",
        "y = df['Close']\n"
      ],
      "metadata": {
        "id": "0ijjebpDeRno"
      },
      "execution_count": 201,
      "outputs": []
    },
    {
      "cell_type": "code",
      "source": [
        "model = RandomForestRegressor(n_estimators=100)"
      ],
      "metadata": {
        "id": "GriSvW2TeTQC"
      },
      "execution_count": 202,
      "outputs": []
    },
    {
      "cell_type": "code",
      "source": [
        "model.fit(X, y)\n"
      ],
      "metadata": {
        "colab": {
          "base_uri": "https://localhost:8080/"
        },
        "id": "VbX-Mct0eUvD",
        "outputId": "78e41940-ffd8-4ef4-e5ac-9de4986807e1"
      },
      "execution_count": 203,
      "outputs": [
        {
          "output_type": "execute_result",
          "data": {
            "text/plain": [
              "RandomForestRegressor()"
            ]
          },
          "metadata": {},
          "execution_count": 203
        }
      ]
    },
    {
      "cell_type": "code",
      "source": [
        "prediction = model.predict([[df['Open'][-1], df['High'][-1], df['Low'][-1], df['Volume'][-1]]])"
      ],
      "metadata": {
        "colab": {
          "base_uri": "https://localhost:8080/"
        },
        "id": "G3TmM-vThAOg",
        "outputId": "030c74a8-0995-49bb-97df-9e10ea648d16"
      },
      "execution_count": 204,
      "outputs": [
        {
          "output_type": "stream",
          "name": "stderr",
          "text": [
            "/usr/local/lib/python3.8/dist-packages/sklearn/base.py:450: UserWarning: X does not have valid feature names, but RandomForestRegressor was fitted with feature names\n",
            "  warnings.warn(\n"
          ]
        }
      ]
    },
    {
      "cell_type": "code",
      "source": [
        "print(prediction)"
      ],
      "metadata": {
        "colab": {
          "base_uri": "https://localhost:8080/"
        },
        "id": "OR796Vhti7sl",
        "outputId": "ee2782d2-9fed-46ca-fc2a-298d7fe4b633"
      },
      "execution_count": 205,
      "outputs": [
        {
          "output_type": "stream",
          "name": "stdout",
          "text": [
            "[3824.66934326]\n"
          ]
        }
      ]
    },
    {
      "cell_type": "code",
      "source": [
        "print(\"Previsão para a ação selecionada entre {} e {}: {}\".format(start_date.strftime('%Y-%m-%d'), end_date.strftime('%Y-%m-%d'), prediction))"
      ],
      "metadata": {
        "colab": {
          "base_uri": "https://localhost:8080/"
        },
        "id": "NDy0v7WWotiP",
        "outputId": "1df940be-5357-4f25-b153-0264967c7e95"
      },
      "execution_count": 206,
      "outputs": [
        {
          "output_type": "stream",
          "name": "stdout",
          "text": [
            "Previsão para a ação selecionada entre 2022-11-30 e 2023-01-29: [3824.66934326]\n"
          ]
        }
      ]
    }
  ]
}